{
 "cells": [
  {
   "cell_type": "code",
   "execution_count": null,
   "metadata": {},
   "outputs": [],
   "source": [
    "#An object is a bit of self-contained Code and Data\n",
    "\n",
    "#A key aspect of the Object approach is to break the problem down into smaller understandable parts.\n",
    "\n",
    "#Objects have boundaries that allow us to ginore un-needed detail.\n",
    "\n",
    "#We have\n",
    "# The class is the template, and the object/instance is a particular instance of the class.\n",
    "# \n",
    "# \n",
    "# f#\n",
    "# # "
   ]
  },
  {
   "cell_type": "code",
   "execution_count": 4,
   "metadata": {},
   "outputs": [
    {
     "name": "stdout",
     "output_type": "stream",
     "text": [
      "so far 1\n",
      "so far 2\n"
     ]
    },
    {
     "ename": "TypeError",
     "evalue": "party2() missing 1 required positional argument: 'number'",
     "output_type": "error",
     "traceback": [
      "\u001b[0;31m---------------------------------------------------------------------------\u001b[0m",
      "\u001b[0;31mTypeError\u001b[0m                                 Traceback (most recent call last)",
      "Cell \u001b[0;32mIn [4], line 16\u001b[0m\n\u001b[1;32m     13\u001b[0m \u001b[39mdef\u001b[39;00m \u001b[39mparty2\u001b[39m(number):\n\u001b[1;32m     14\u001b[0m     \u001b[39mprint\u001b[39m(\u001b[39m\"\u001b[39m\u001b[39mso far\u001b[39m\u001b[39m\"\u001b[39m, number \u001b[39m+\u001b[39m\u001b[39m1\u001b[39m)\n\u001b[0;32m---> 16\u001b[0m party2()\n\u001b[1;32m     17\u001b[0m party2()\n",
      "\u001b[0;31mTypeError\u001b[0m: party2() missing 1 required positional argument: 'number'"
     ]
    }
   ],
   "source": [
    "class PartyAnimal:\n",
    "    x=0\n",
    "\n",
    "    def party(self):\n",
    "        self.x = self.x +1\n",
    "        print(\"so far\", self.x)\n",
    "\n",
    "an = PartyAnimal()\n",
    "\n",
    "an.party()\n",
    "an.party()\n",
    "\n",
    "def party2(number):\n",
    "    print(\"so far\", number +1)\n",
    "\n",
    "party2()\n",
    "party2()\n",
    "\n",
    "#note that self is used, not this."
   ]
  }
 ],
 "metadata": {
  "kernelspec": {
   "display_name": "Python 3.10.6 64-bit",
   "language": "python",
   "name": "python3"
  },
  "language_info": {
   "codemirror_mode": {
    "name": "ipython",
    "version": 3
   },
   "file_extension": ".py",
   "mimetype": "text/x-python",
   "name": "python",
   "nbconvert_exporter": "python",
   "pygments_lexer": "ipython3",
   "version": "3.10.6"
  },
  "orig_nbformat": 4,
  "vscode": {
   "interpreter": {
    "hash": "916dbcbb3f70747c44a77c7bcd40155683ae19c65e1c03b4aa3499c5328201f1"
   }
  }
 },
 "nbformat": 4,
 "nbformat_minor": 2
}
