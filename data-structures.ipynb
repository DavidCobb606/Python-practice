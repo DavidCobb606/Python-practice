{
 "cells": [
  {
   "cell_type": "code",
   "execution_count": null,
   "metadata": {},
   "outputs": [],
   "source": [
    "#Algorithms are where we write programmes that are sets of instructions for the computer. They are a set of rules used to solve a problem. \n",
    "\n",
    "#We also use Data structures. These are a particular way of organizing data. "
   ]
  },
  {
   "cell_type": "code",
   "execution_count": null,
   "metadata": {},
   "outputs": [],
   "source": [
    "#A list is a kind of collection. A collection allows us to put many values into a single \"variable\". A collection can carry many values around in 1 package. \n",
    "\n",
    "#It's an array.\n",
    "\n",
    "#Array's are mutable and can be changed. Just like JS, strings in Python are immutable. "
   ]
  },
  {
   "cell_type": "code",
   "execution_count": null,
   "metadata": {},
   "outputs": [],
   "source": [
    "#Length and range\n",
    "\n",
    "#len() returns the numbers of elements in a list (or any set or sequence for that matter).\n",
    "\n",
    "#Range returns a list of numbers that range from 0 to one less than the parameter. \n",
    "\n",
    "greet = \"hello!\"\n",
    "print(len(greet))\n",
    "\n",
    "print(range(10))"
   ]
  },
  {
   "cell_type": "code",
   "execution_count": null,
   "metadata": {},
   "outputs": [],
   "source": [
    "#Lists can contain any data type. Arrays are vectors containing homogenous elements - they belong to the same data type. \n",
    "\n",
    "#You can add lists together with a simple plus and it just concatnates them. \n",
    "\n",
    "#Lists are ordered and sortable.\n",
    "\n",
    "#You can also use list slicing, which works exactly the same way as strings. \n",
    "\n",
    "#Push to push to the start of the array, .append to add to the end. "
   ]
  },
  {
   "cell_type": "code",
   "execution_count": null,
   "metadata": {},
   "outputs": [],
   "source": [
    "#How are strings and lists related?\n",
    "\n",
    "#.split breaks a string into parts and produces a list of strings. It defaults to splitting everytime there is whitespace, but you can set where it splits to wherever you want using a quotation mark with a character inside. See below.\n",
    "\n",
    "name=\"David James Dallas\"\n",
    "splitName = name.split()\n",
    "splitName2 = name.split(\"David\")\n",
    "splitName3=name.split(\"J\")\n",
    "\n",
    "print(splitName)\n",
    "print(splitName2)\n",
    "print(splitName3)"
   ]
  },
  {
   "cell_type": "code",
   "execution_count": null,
   "metadata": {},
   "outputs": [],
   "source": []
  }
 ],
 "metadata": {
  "kernelspec": {
   "display_name": "Python 3.10.6 64-bit",
   "language": "python",
   "name": "python3"
  },
  "language_info": {
   "codemirror_mode": {
    "name": "ipython",
    "version": 3
   },
   "file_extension": ".py",
   "mimetype": "text/x-python",
   "name": "python",
   "nbconvert_exporter": "python",
   "pygments_lexer": "ipython3",
   "version": "3.10.6"
  },
  "orig_nbformat": 4,
  "vscode": {
   "interpreter": {
    "hash": "916dbcbb3f70747c44a77c7bcd40155683ae19c65e1c03b4aa3499c5328201f1"
   }
  }
 },
 "nbformat": 4,
 "nbformat_minor": 2
}
