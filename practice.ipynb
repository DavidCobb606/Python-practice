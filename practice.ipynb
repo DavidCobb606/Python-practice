{
 "cells": [
  {
   "cell_type": "code",
   "execution_count": 2,
   "metadata": {},
   "outputs": [
    {
     "name": "stdout",
     "output_type": "stream",
     "text": [
      "6\n"
     ]
    }
   ],
   "source": [
    "x = 6\n",
    "print(x)"
   ]
  },
  {
   "cell_type": "code",
   "execution_count": 3,
   "metadata": {},
   "outputs": [
    {
     "name": "stdout",
     "output_type": "stream",
     "text": [
      "12\n"
     ]
    }
   ],
   "source": [
    "x=6\n",
    "x=12\n",
    "print(x)\n"
   ]
  },
  {
   "cell_type": "code",
   "execution_count": 4,
   "metadata": {},
   "outputs": [
    {
     "name": "stdout",
     "output_type": "stream",
     "text": [
      "greater than\n"
     ]
    }
   ],
   "source": [
    "x=20\n",
    "if x>6:\n",
    "    print(\"greater than\")\n",
    "else:\n",
    "    print(\"less than\")\n"
   ]
  },
  {
   "cell_type": "code",
   "execution_count": 5,
   "metadata": {},
   "outputs": [
    {
     "name": "stdout",
     "output_type": "stream",
     "text": [
      "5\n",
      "4\n",
      "3\n",
      "2\n",
      "1\n"
     ]
    }
   ],
   "source": [
    "n = 5\n",
    "while n>0 :\n",
    "    print(n)\n",
    "    n=n-1\n",
    "\n",
    "\n",
    "    "
   ]
  },
  {
   "cell_type": "code",
   "execution_count": 6,
   "metadata": {},
   "outputs": [
    {
     "name": "stdout",
     "output_type": "stream",
     "text": [
      "0\n",
      "1\n",
      "2\n"
     ]
    }
   ],
   "source": [
    "#The break statement ends the current loop and jumps to the statement immediately following the loop. \n",
    "\n",
    "n=0\n",
    "\n",
    "while True:\n",
    "    if n==3:\n",
    "        break\n",
    "    print(n)\n",
    "    n=n+1\n",
    "\n",
    "#This will run until n is 3, and since n == 3, it will break from the loop. \n",
    "\n"
   ]
  },
  {
   "cell_type": "code",
   "execution_count": 7,
   "metadata": {},
   "outputs": [
    {
     "name": "stdout",
     "output_type": "stream",
     "text": [
      "5\n",
      "4\n",
      "3\n",
      "2\n",
      "1\n",
      "5\n",
      "4\n",
      "3\n",
      "2\n",
      "1\n"
     ]
    }
   ],
   "source": [
    "#Definite loops. These loop through sets of things and run a finite number of times. \n",
    "\n",
    "for i in [5,4,3,2,1]:\n",
    "    print(i)\n",
    "\n",
    "x = [5,4,3,2,1]\n",
    "\n",
    "for i in x:\n",
    "    print(i)\n"
   ]
  },
  {
   "cell_type": "code",
   "execution_count": 8,
   "metadata": {},
   "outputs": [],
   "source": [
    "#loop idioms are what we do in loops. We can make smart loops. "
   ]
  },
  {
   "cell_type": "code",
   "execution_count": 9,
   "metadata": {},
   "outputs": [
    {
     "name": "stdout",
     "output_type": "stream",
     "text": [
      "Before 0\n",
      "1 1\n",
      "2 2\n",
      "3 3\n",
      "4 4\n",
      "5 5\n",
      "6 6\n",
      "7 7\n",
      "8 8\n",
      "9 9\n",
      "100 100\n",
      "1230 1230\n",
      "1230 0\n",
      "1230 4\n",
      "after 1230\n",
      "21\n"
     ]
    }
   ],
   "source": [
    "#a simple example of using a loop to find the largest number\n",
    "\n",
    "#in python, None === null in JS.\n",
    "\n",
    "largest_number = 0\n",
    "array = [1,2,3,4,5,6,7,8,9,100,1230, 0,4]\n",
    "print(\"Before\", largest_number)\n",
    "for x in array:\n",
    "    if x>largest_number:\n",
    "        largest_number=x\n",
    "    print (largest_number, x)\n",
    "print(\"after\", largest_number)\n",
    "\n",
    "count=0\n",
    "array2 = [1,2,3,4,5,6]\n",
    "\n",
    "\n",
    "\n",
    "for x in array2:\n",
    "    count+=x\n",
    "print(count)\n"
   ]
  },
  {
   "cell_type": "code",
   "execution_count": 10,
   "metadata": {},
   "outputs": [
    {
     "name": "stdout",
     "output_type": "stream",
     "text": [
      "Davi\n",
      "True\n",
      "david dallas\n",
      "hello David\n"
     ]
    }
   ],
   "source": [
    "#doing more stuff with strings\n",
    "\n",
    "#slice is stringName[x:y]\n",
    "\n",
    "string=\"David Dallas\"\n",
    "print(string[0:4])\n",
    "\n",
    "#You can use the \"in\" keyword as a logical operator. It's used to check to see if the string in question has a character. Returns a Boolean.\n",
    "\n",
    "print(\"d\" in string) # returns true\n",
    "\n",
    "#string comparision\n",
    "\n",
    "#String Library\n",
    "\n",
    "#Similar to methods in JS.\n",
    "\n",
    "lowerCaseString = string.lower()\n",
    "print(lowerCaseString)\n",
    "\n",
    "\n",
    "#lstrip() and rstrip() remove whitespace at the left or right\n",
    "#strip() removes both beginning and ending whitespace\n",
    "\n",
    "greeting = \"hello David\"\n",
    "newGreeting=greeting.strip()\n",
    "\n",
    "print(newGreeting)"
   ]
  },
  {
   "cell_type": "code",
   "execution_count": 11,
   "metadata": {},
   "outputs": [
    {
     "name": "stdout",
     "output_type": "stream",
     "text": [
      "42\n"
     ]
    },
    {
     "data": {
      "text/plain": [
       "['__abs__',\n",
       " '__add__',\n",
       " '__and__',\n",
       " '__bool__',\n",
       " '__ceil__',\n",
       " '__class__',\n",
       " '__delattr__',\n",
       " '__dir__',\n",
       " '__divmod__',\n",
       " '__doc__',\n",
       " '__eq__',\n",
       " '__float__',\n",
       " '__floor__',\n",
       " '__floordiv__',\n",
       " '__format__',\n",
       " '__ge__',\n",
       " '__getattribute__',\n",
       " '__getnewargs__',\n",
       " '__gt__',\n",
       " '__hash__',\n",
       " '__index__',\n",
       " '__init__',\n",
       " '__init_subclass__',\n",
       " '__int__',\n",
       " '__invert__',\n",
       " '__le__',\n",
       " '__lshift__',\n",
       " '__lt__',\n",
       " '__mod__',\n",
       " '__mul__',\n",
       " '__ne__',\n",
       " '__neg__',\n",
       " '__new__',\n",
       " '__or__',\n",
       " '__pos__',\n",
       " '__pow__',\n",
       " '__radd__',\n",
       " '__rand__',\n",
       " '__rdivmod__',\n",
       " '__reduce__',\n",
       " '__reduce_ex__',\n",
       " '__repr__',\n",
       " '__rfloordiv__',\n",
       " '__rlshift__',\n",
       " '__rmod__',\n",
       " '__rmul__',\n",
       " '__ror__',\n",
       " '__round__',\n",
       " '__rpow__',\n",
       " '__rrshift__',\n",
       " '__rshift__',\n",
       " '__rsub__',\n",
       " '__rtruediv__',\n",
       " '__rxor__',\n",
       " '__setattr__',\n",
       " '__sizeof__',\n",
       " '__str__',\n",
       " '__sub__',\n",
       " '__subclasshook__',\n",
       " '__truediv__',\n",
       " '__trunc__',\n",
       " '__xor__',\n",
       " 'as_integer_ratio',\n",
       " 'bit_count',\n",
       " 'bit_length',\n",
       " 'conjugate',\n",
       " 'denominator',\n",
       " 'from_bytes',\n",
       " 'imag',\n",
       " 'numerator',\n",
       " 'real',\n",
       " 'to_bytes']"
      ]
     },
     "execution_count": 11,
     "metadata": {},
     "output_type": "execute_result"
    }
   ],
   "source": [
    "type(string)\n",
    "\n",
    "\n",
    "numbers = 42\n",
    "print(numbers)\n",
    "\n",
    "dir(numbers)\n",
    "\n",
    "# you can use dir() next to your variable to see what methods cna be used on them. \n",
    "\n"
   ]
  },
  {
   "cell_type": "code",
   "execution_count": 12,
   "metadata": {},
   "outputs": [
    {
     "name": "stdout",
     "output_type": "stream",
     "text": [
      "Davib Dallas\n"
     ]
    }
   ],
   "source": [
    "#Search and Replace\n",
    "\n",
    "replacedString = string.replace(\"d\", \"b\")\n",
    "print(replacedString)\n",
    "\n",
    "#the above replaces all instances of \"d\" with \"b\" in the variable \"string\"."
   ]
  },
  {
   "cell_type": "code",
   "execution_count": 13,
   "metadata": {},
   "outputs": [
    {
     "name": "stdout",
     "output_type": "stream",
     "text": [
      "David Dallas     \n"
     ]
    }
   ],
   "source": [
    "#Stripping whitespace\n",
    "anotherString = \" David Dallas     \"\n",
    "print(anotherString.lstrip())"
   ]
  },
  {
   "cell_type": "code",
   "execution_count": 14,
   "metadata": {},
   "outputs": [
    {
     "data": {
      "text/plain": [
       "False"
      ]
     },
     "execution_count": 14,
     "metadata": {},
     "output_type": "execute_result"
    }
   ],
   "source": [
    "#Prefixes\n",
    "\n",
    "#Is a boolean and analyses whether the string in question starts with a certian character. \n",
    "\n",
    "string.startswith(\"David\")\n",
    "string.startswith(\"Rounded\")\n"
   ]
  },
  {
   "cell_type": "code",
   "execution_count": 15,
   "metadata": {},
   "outputs": [],
   "source": [
    "#Parsing and Extracting"
   ]
  },
  {
   "cell_type": "code",
   "execution_count": null,
   "metadata": {},
   "outputs": [],
   "source": []
  }
 ],
 "metadata": {
  "kernelspec": {
   "display_name": "Python 3.10.6 64-bit",
   "language": "python",
   "name": "python3"
  },
  "language_info": {
   "codemirror_mode": {
    "name": "ipython",
    "version": 3
   },
   "file_extension": ".py",
   "mimetype": "text/x-python",
   "name": "python",
   "nbconvert_exporter": "python",
   "pygments_lexer": "ipython3",
   "version": "3.10.6"
  },
  "orig_nbformat": 4,
  "vscode": {
   "interpreter": {
    "hash": "916dbcbb3f70747c44a77c7bcd40155683ae19c65e1c03b4aa3499c5328201f1"
   }
  }
 },
 "nbformat": 4,
 "nbformat_minor": 2
}
