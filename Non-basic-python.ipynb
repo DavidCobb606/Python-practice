{
 "cells": [
  {
   "cell_type": "code",
   "execution_count": null,
   "metadata": {},
   "outputs": [],
   "source": [
    "#Reading files\n",
    "\n",
    "#open() returns a file handle. This is a variable used to perform operations on the file. \n",
    "\n",
    "#'r' to read, 'w' to write in the second parameter.\n",
    "\n",
    "#Handles we use are open, read, write, close.\n",
    "\n",
    "#we use \\n to go to a newline. \\N is still a character and if counting it will recognise this. \n",
    "\n",
    "#A textfile will have \\n at the end of each line. \n",
    "\n",
    "#A file handle open for read can be treated as a sequence of strings where each line in the file is a string in the sequence. We can use the for statement to iterate through a sequence. "
   ]
  },
  {
   "cell_type": "code",
   "execution_count": 11,
   "metadata": {},
   "outputs": [
    {
     "name": "stdout",
     "output_type": "stream",
     "text": [
      "line count: 1026\n"
     ]
    }
   ],
   "source": [
    "#Basic programme to count the lines in a file\n",
    "\n",
    "heartData = open(\"heart.csv\", \"r\")\n",
    "count = 0\n",
    "\n",
    "for line in heartData:\n",
    "    count = count+1\n",
    "\n",
    "print(\"line count:\", count)\n",
    "\n",
    "\n"
   ]
  },
  {
   "cell_type": "code",
   "execution_count": 20,
   "metadata": {},
   "outputs": [
    {
     "name": "stdout",
     "output_type": "stream",
     "text": [
      "37088\n",
      "age,sex,cp,trestbps,\n"
     ]
    }
   ],
   "source": [
    "#Printing the number of characters and printing the last 20 characters of the file.\n",
    "\n",
    "heartData = open(\"heart.csv\")\n",
    "inp = heartData.read()\n",
    "print(len(inp))\n",
    "print(inp[:20])"
   ]
  },
  {
   "cell_type": "code",
   "execution_count": 21,
   "metadata": {},
   "outputs": [],
   "source": [
    "#Searching through a file\n",
    "#heartData = open(\"heart.csv\")\n",
    "for i in heartData:\n",
    "    if (i.startswith(\"age\")):\n",
    "        print(i)"
   ]
  },
  {
   "cell_type": "code",
   "execution_count": 22,
   "metadata": {},
   "outputs": [
    {
     "name": "stdout",
     "output_type": "stream",
     "text": [
      "line count: 1026\n"
     ]
    }
   ],
   "source": [
    "#We can also strip the whitespace from the right-hand side of the string. The newline is considered white space and is stripped.\n",
    "\n"
   ]
  },
  {
   "cell_type": "code",
   "execution_count": null,
   "metadata": {},
   "outputs": [],
   "source": [
    "#If we use the word \"continue\" in the middle of a loop, the code will skip to the next iteration of the loop."
   ]
  }
 ],
 "metadata": {
  "kernelspec": {
   "display_name": "Python 3.10.6 64-bit",
   "language": "python",
   "name": "python3"
  },
  "language_info": {
   "codemirror_mode": {
    "name": "ipython",
    "version": 3
   },
   "file_extension": ".py",
   "mimetype": "text/x-python",
   "name": "python",
   "nbconvert_exporter": "python",
   "pygments_lexer": "ipython3",
   "version": "3.10.6"
  },
  "orig_nbformat": 4,
  "vscode": {
   "interpreter": {
    "hash": "916dbcbb3f70747c44a77c7bcd40155683ae19c65e1c03b4aa3499c5328201f1"
   }
  }
 },
 "nbformat": 4,
 "nbformat_minor": 2
}
