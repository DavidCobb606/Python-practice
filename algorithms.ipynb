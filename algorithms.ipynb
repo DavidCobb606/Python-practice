{
 "cells": [
  {
   "attachments": {},
   "cell_type": "markdown",
   "metadata": {},
   "source": [
    "# \n",
    "\n",
    "The set of rules a machine follows to achieve a particular goal. "
   ]
  },
  {
   "attachments": {},
   "cell_type": "markdown",
   "metadata": {},
   "source": [
    "### Types of Algorithms\n",
    "\n",
    "##### Simple Recursive Algorithms\n",
    "##### Algorithms within data structures\n",
    "##### Divide & Conquer\n",
    "##### Greedy Algorithms\n",
    "##### Dynamic Programming"
   ]
  },
  {
   "attachments": {},
   "cell_type": "markdown",
   "metadata": {},
   "source": [
    "#### Simple Recursive Algorithms\n",
    "\n",
    "Recursive is in contrast to iteration. \n",
    "\n",
    "When doing factorials, it's actually slower to do recursion than it is to iteration. But recursive algorithms have their uses later on. \n",
    "\n",
    "Permutations are where you take a set of elements and find all the different variations that can be made with them. We can find the permutations by finding the factorial of the number. Below is a permutation algorithm"
   ]
  },
  {
   "cell_type": "code",
   "execution_count": null,
   "metadata": {},
   "outputs": [],
   "source": [
    "def permute(string, pocket=\"\"):\n",
    "    if len(string) == 0:\n",
    "        print(pocket)\n",
    "    else:\n",
    "        for i in range((len(string))):\n",
    "            letter = string[i]\n",
    "            front = string[0:i]\n",
    "            back=string[i+1:]\n",
    "            together= front + back\n",
    "            permute(together, letter+pocket)\n",
    "\n",
    "print(permute(\"ABC\"))"
   ]
  },
  {
   "attachments": {},
   "cell_type": "markdown",
   "metadata": {},
   "source": [
    "In the above, the code is not as efficient as using normal iteration. However, the code using iteration is twice as long . "
   ]
  }
 ],
 "metadata": {
  "kernelspec": {
   "display_name": "Python 3",
   "language": "python",
   "name": "python3"
  },
  "language_info": {
   "codemirror_mode": {
    "name": "ipython",
    "version": 3
   },
   "file_extension": ".py",
   "mimetype": "text/x-python",
   "name": "python",
   "nbconvert_exporter": "python",
   "pygments_lexer": "ipython3",
   "version": "3.10.6 (main, Nov 14 2022, 16:10:14) [GCC 11.3.0]"
  },
  "orig_nbformat": 4,
  "vscode": {
   "interpreter": {
    "hash": "916dbcbb3f70747c44a77c7bcd40155683ae19c65e1c03b4aa3499c5328201f1"
   }
  }
 },
 "nbformat": 4,
 "nbformat_minor": 2
}
