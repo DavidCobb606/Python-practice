{
 "cells": [
  {
   "cell_type": "code",
   "execution_count": null,
   "metadata": {},
   "outputs": [],
   "source": [
    "#A collection can have more than 1 value in it and carry them all around in 1 package. \n",
    "\n",
    "#A list is a collection which is ordered. It's a linear collection of values\n",
    "\n",
    "#Dictionaries seem similar to objects in JS.\n",
    "\n",
    "#Dictionaries are commonly used to make histograms. "
   ]
  },
  {
   "cell_type": "code",
   "execution_count": null,
   "metadata": {},
   "outputs": [],
   "source": [
    "#We can use counters with dictionaries:\n",
    "\n",
    "practice=dict()\n",
    "namesOfItem = [\"book\", \"pen\"]\n",
    "\n",
    "practice[\"book\"]=1\n",
    "practice[\"pen\"]=3\n",
    "practice[\"book\"]=5\n",
    "practice[\"cup\"]=2\n",
    "practice[\"book\"]+= 1\n",
    "\n",
    "print(practice)\n",
    "\n",
    "#You can use for loops for dictionaries. The code below populates the dictionary.\n",
    "\n",
    "counts = dict()\n",
    "names=[\"David\", \"Noelle\", \"Jess\", \"Dan\", \"David\"]\n",
    "\n",
    "for name in names:\n",
    "    if name not in counts:\n",
    "        counts[name]=5\n",
    "    else:\n",
    "        counts[name]+=1\n",
    "\n",
    "print(counts)\n",
    "\n",
    "#Note that you seemingly can't define strings on right hand side of equation, only number values. \n",
    "\n",
    "#we have the get method to see if a key exists in a dictionary. It assumes a default value if they key doesn't exist. \n",
    "#The code below tells us the info of the dictionary. \n",
    "\n",
    "\n",
    "#This says that if the name in the array exists, then return the value for the key.\n",
    "if name in counts:\n",
    "    print(name)\n",
    "else:\n",
    "    x=0\n",
    "\n",
    "x =counts.get(name)\n",
    "\n",
    "\n",
    "print(counts)\n",
    "\n",
    "\n"
   ]
  },
  {
   "cell_type": "code",
   "execution_count": null,
   "metadata": {},
   "outputs": [],
   "source": [
    "#Counting Patterns\n",
    "\n",
    "#We can use simple algorithms to count words for us:\n",
    "\n",
    "line = \"David took a sip from my mug but the tea had already gone lukewarm.\"\n",
    "\n",
    "words=line.split()\n",
    "\n",
    "print(counts.get(\"David\"))\n",
    "\n",
    "\n",
    "for i in words:\n",
    "    counts[i] = counts.get(i,0) +1   #This says to iterate through the dictionary, and set the entry to either the frequency of the value (counts.get()) or 0. Then, after, it says to add 1 to whatever this value has been. \n",
    "\n",
    "print(counts)\n",
    "\n",
    "#This takes an array and sees how many times the words from this array appear in the dictionary. "
   ]
  },
  {
   "cell_type": "code",
   "execution_count": null,
   "metadata": {},
   "outputs": [],
   "source": [
    "#For loops go through the keys in the dictionary, and looks up the values.\n",
    "\n",
    "for key in counts:\n",
    "    print(key, counts[key])\n",
    "\n",
    "\n",
    "#There are also specific methods that give us lists of the keys or values. \n",
    "\n",
    "print(list(counts))\n",
    "print(counts.keys())\n",
    "print(counts.values())\n",
    "print(counts.items())"
   ]
  },
  {
   "cell_type": "code",
   "execution_count": null,
   "metadata": {},
   "outputs": [],
   "source": []
  }
 ],
 "metadata": {
  "kernelspec": {
   "display_name": "Python 3.10.6 64-bit",
   "language": "python",
   "name": "python3"
  },
  "language_info": {
   "codemirror_mode": {
    "name": "ipython",
    "version": 3
   },
   "file_extension": ".py",
   "mimetype": "text/x-python",
   "name": "python",
   "nbconvert_exporter": "python",
   "pygments_lexer": "ipython3",
   "version": "3.10.6 (main, Nov 14 2022, 16:10:14) [GCC 11.3.0]"
  },
  "orig_nbformat": 4,
  "vscode": {
   "interpreter": {
    "hash": "916dbcbb3f70747c44a77c7bcd40155683ae19c65e1c03b4aa3499c5328201f1"
   }
  }
 },
 "nbformat": 4,
 "nbformat_minor": 2
}
