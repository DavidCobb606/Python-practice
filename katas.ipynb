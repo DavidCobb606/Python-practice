{
 "cells": [
  {
   "cell_type": "code",
   "execution_count": null,
   "metadata": {},
   "outputs": [],
   "source": [
    "#Create a function which answers the question \"Are you playing banjo?\".\n",
    "#If your name starts with the letter \"R\" or lower case \"r\", you are playing banjo!\n",
    "\n",
    "#The function takes a name as its only argument, and returns one of the following strings:\n",
    "\n",
    "#name + \" plays banjo\" \n",
    "#name + \" does not play banjo\"\n",
    "\n",
    "#Names given are always valid strings.\n",
    "\n",
    "name = \"rolf\"\n",
    "\n",
    "def are_you_playing_banjo(name):\n",
    "    if(name.startswith((\"R\", \"r\"))):\n",
    "        return name + \" plays banjo\"\n",
    "    else:\n",
    "        return name + \" does not play banjo\"\n",
    "\n",
    "print(are_you_playing_banjo(name))\n"
   ]
  },
  {
   "cell_type": "markdown",
   "metadata": {},
   "source": []
  },
  {
   "cell_type": "code",
   "execution_count": null,
   "metadata": {},
   "outputs": [],
   "source": [
    "#You are given the length and width of a 4-sided polygon. It's either a rectangle or a square. If square, return the area; if rectangle, return the perimeter.\n",
    "\n",
    "def area_or_perimeter(l,w):\n",
    "    if(l==w):\n",
    "        return l*w\n",
    "    if(l!=w):\n",
    "        return l+l+w+w"
   ]
  },
  {
   "cell_type": "code",
   "execution_count": null,
   "metadata": {},
   "outputs": [],
   "source": [
    "#Given a non-negative integer, 3 for example, return a string with a murmur: \"1 sheep...2 sheep...3 sheep...\". Input will always be valid, i.e. no negative integers.\n",
    "\n",
    "def count_sheep(n):\n",
    "    return ''.join(f\"{i} sheep...\" for i in range(1,n+1))"
   ]
  },
  {
   "cell_type": "code",
   "execution_count": null,
   "metadata": {},
   "outputs": [],
   "source": [
    "#Double the integer and return it\n",
    "def double(n):\n",
    "    return n*2"
   ]
  },
  {
   "cell_type": "code",
   "execution_count": null,
   "metadata": {},
   "outputs": [],
   "source": [
    "#Alex just got a new hula hoop, he loves it but feels discouraged because his little brother is better than him\n",
    "\n",
    "#Write a program where Alex can input (n) how many times the hoop goes round and it will return him an encouraging message :)\n",
    "\n",
    "#If Alex gets 10 or more hoops, return the string \"Great, now move on to tricks\". If he doesn't get 10 hoops, return the string \"Keep at it until you get it\".\n",
    "\n",
    "def hoop_count(n):\n",
    "    if(n>10):\n",
    "        return \"Great, now move on to tricks\"\n",
    "    if(n<10):\n",
    "        return \"Keep at it until you get it\"\n",
    "\n"
   ]
  },
  {
   "cell_type": "code",
   "execution_count": null,
   "metadata": {},
   "outputs": [],
   "source": [
    "#args_count returns the count of passed arguments\n",
    "\n",
    "def args_count(*args):\n",
    "    return len(args)\n",
    "\n",
    "print(args_count(1,2,3,4,5))\n",
    "\n",
    "#NB we have *args and **kwargs. The first is a non-keyword argument, and the second is a keyword argument. \n",
    "\n",
    "#The *s are used as wildcard notiation. They're used when we don't know how many arguments are being passed. "
   ]
  },
  {
   "cell_type": "code",
   "execution_count": null,
   "metadata": {},
   "outputs": [],
   "source": [
    "#strip all whitespace\n",
    "x= \"8 j 8   mBliB8g  imjB8B8  jl  B\"\n",
    "def no_space(x):\n",
    "    noSpacesX = x.replace(\" \", \"\")\n",
    "    return noSpacesX\n",
    "\n",
    "print(no_space(x))\n",
    "\n",
    "#Stuck on this for a while because replace functions returns something new and doesn't modify. "
   ]
  },
  {
   "cell_type": "code",
   "execution_count": null,
   "metadata": {},
   "outputs": [],
   "source": [
    "#You ask a small girl,\"How old are you?\" She always says, \"x years old\", where x is a random number between 0 and 9.\n",
    "\n",
    "#Write a program that returns the girl's age (0-9) as an integer.\n",
    "\n",
    "#Assume the test input string is always a valid string. For example, the test input may be \"1 year old\" or \"5 years old\". The first character in the string is always a number.\n",
    "\n",
    "def get_age(age):\n",
    "    return int(age[0])\n",
    "\n",
    "print(get_age(\"4 years old\"))\n"
   ]
  },
  {
   "cell_type": "code",
   "execution_count": null,
   "metadata": {},
   "outputs": [],
   "source": [
    "#Find the first non-consecutive integer\n",
    "\n",
    "arr=[1,2,3,4,5,6,8,9,12,12,15]\n",
    "\n",
    "\n",
    "def first_non_consecutive(arr):\n",
    "    print(enumerate(arr))\n",
    "  \n",
    "\n",
    "first_non_consecutive(arr)"
   ]
  },
  {
   "cell_type": "code",
   "execution_count": null,
   "metadata": {},
   "outputs": [],
   "source": [
    "def correct(s):\n",
    "    newString = s.replace(\"0\", \"O\").replace(\"0\", \"O\").replace(\"1\", \"I\")\n",
    "    return newString\n",
    "\n",
    "print(correct(\"L0ND0N\"))\n",
    "print(correct(\"DUBL1N\"))"
   ]
  },
  {
   "cell_type": "code",
   "execution_count": null,
   "metadata": {},
   "outputs": [],
   "source": [
    "def greet(language):\n",
    "    translate= {  \n",
    "    'english': 'Welcome',\n",
    "    'czech': 'Vitejte',\n",
    "    'danish': 'Velkomst',\n",
    "    'dutch': 'Welkom',\n",
    "    'estonian': 'Tere tulemast',\n",
    "    'finnish': 'Tervetuloa',\n",
    "    'flemish': 'Welgekomen',\n",
    "    'french': 'Bienvenue',\n",
    "    'german': 'Willkommen',\n",
    "    'irish': 'Failte',\n",
    "    'italian': 'Benvenuto',\n",
    "    'latvian': 'Gaidits',\n",
    "    'lithuanian': 'Laukiamas',\n",
    "    'polish': 'Witamy',\n",
    "    'spanish': 'Bienvenido',\n",
    "    'swedish': 'Valkommen',\n",
    "    'welsh': 'Croeso'\n",
    "    }\n",
    "\n",
    "    print(translate[language])\n",
    "\n",
    "greet(\"english\")\n"
   ]
  },
  {
   "cell_type": "code",
   "execution_count": null,
   "metadata": {},
   "outputs": [],
   "source": [
    "def sum_array(arr):\n",
    "    arr.sort()\n",
    "    slicedArr = arr[1: len(arr)-1]\n",
    "    print(max(arr))\n",
    "    print(min(arr))\n",
    "    return sum(slicedArr)\n",
    "\n",
    "\n",
    "print(sum_array([1,1,11,2,3]))\n",
    "\n",
    "def sum_array_better(arr):\n",
    "    return sum(arr)-max(arr)-min(arr)\n",
    "\n"
   ]
  },
  {
   "cell_type": "code",
   "execution_count": null,
   "metadata": {},
   "outputs": [],
   "source": [
    "def filter_condition(x):\n",
    "    if len(x)==4:\n",
    "        return True\n",
    "    return False\n",
    "\n",
    "friends_list = [\"Ryan\", \"Kieran\", \"Mark\"]\n",
    "filtered_friends = filter(filter_condition, friends_list)\n",
    "\n",
    "##In filtered_friends, the filter function takes the criteria from the function defined above and applies it to friends_list. It iterates through friends_list one by one, and applies filter_condition to each one. \n",
    "\n",
    "friends = list(filtered_friends)\n",
    "\n",
    "#friends calls filtered_friends and creates a list from it. \n",
    "\n",
    "\n",
    "print(friends)\n"
   ]
  },
  {
   "cell_type": "code",
   "execution_count": null,
   "metadata": {},
   "outputs": [],
   "source": [
    "def remove_smallest(numbers):\n",
    "    spread_numbers = [*numbers]\n",
    "    spread_numbers.sort(reverse=True)\n",
    "    spread_numbers.pop()\n",
    "    return spread_numbers\n",
    "\n",
    "print(remove_smallest([5,3,2,1,4]))"
   ]
  },
  {
   "cell_type": "code",
   "execution_count": null,
   "metadata": {},
   "outputs": [],
   "source": [
    "def number(bus_stops):\n",
    "    total = 0\n",
    "    for i in bus_stops:\n",
    "        total += i[0]-i[1]\n",
    "    return total\n",
    "\n",
    "number([[10,0],[3,5], [5,8]])"
   ]
  },
  {
   "cell_type": "code",
   "execution_count": null,
   "metadata": {},
   "outputs": [],
   "source": [
    "#Complete the solution so that it returns true if the first argument(string) passed in ends with the 2nd argument (also a string). \n",
    "\n",
    "def solution(string, ending):    \n",
    "    if string and ending:\n",
    "        if ending == string[-len(ending):]:\n",
    "            return True \n",
    "    if ending == \"\":\n",
    "        return True\n",
    "    return False\n",
    "\n",
    "\n",
    "solution('abc', 'bc')"
   ]
  },
  {
   "cell_type": "code",
   "execution_count": null,
   "metadata": {},
   "outputs": [],
   "source": [
    "def DNA_strand(dna):\n",
    "    dna_return = \"\"\n",
    "    for i in dna:\n",
    "        if i==\"A\":\n",
    "            dna_return +=\"T\"\n",
    "        if i==\"T\":\n",
    "            dna_return += \"A\"\n",
    "        if i==\"C\":\n",
    "            dna_return += \"G\"\n",
    "        if i==\"G\":\n",
    "            dna_return += \"C\"\n",
    "    \n",
    "    return dna_return\n",
    "\n",
    "print(DNA_strand(\"ATTGC\"))\n",
    "\n",
    "##Better solution below:\n",
    "\n",
    "def DNA_strand_improved(dna):\n",
    "    return dna.translate(str.maketrans(\"ATCG\", \"TAGC\"))\n",
    "\n",
    "print(DNA_strand_improved(\"AACGT\"))"
   ]
  },
  {
   "cell_type": "code",
   "execution_count": 55,
   "metadata": {},
   "outputs": [
    {
     "name": "stdout",
     "output_type": "stream",
     "text": [
      "a b c d\n",
      "elppa\n",
      "double spaced words\n"
     ]
    }
   ],
   "source": [
    "#reverse a string\n",
    "\n",
    "def reverse_words(text):\n",
    "   \n",
    "    word_array = text.split(\" \")\n",
    "    temp_arr = []\n",
    "    for word in word_array:\n",
    "        \n",
    "        temp_arr.append(word[::-1])\n",
    " \n",
    "    return \" \".join(temp_arr)\n",
    "   \n",
    "print(reverse_words(\"a b c d\"))\n",
    "print(reverse_words(\"apple\"))\n",
    "print(reverse_words(\"elbuod decaps sdrow\"))\n",
    "\n",
    "#This works because python has an optional third parameter : the step. If you leave everything empty apart from the step, which becomes -1, it will simply read the string 1 by 1 but in reverse. \n"
   ]
  },
  {
   "cell_type": "code",
   "execution_count": 62,
   "metadata": {},
   "outputs": [
    {
     "name": "stdout",
     "output_type": "stream",
     "text": [
      "[1, 2]\n"
     ]
    }
   ],
   "source": [
    "def filter_list(l):\n",
    "    filtered_arr = []\n",
    "    for item in l:\n",
    "        if type(item) != str:\n",
    "            filtered_arr.append(item)\n",
    "    return filtered_arr\n",
    "\n",
    "print(filter_list([1,2, \"a\", \"b\"]))"
   ]
  },
  {
   "cell_type": "code",
   "execution_count": 99,
   "metadata": {},
   "outputs": [
    {
     "name": "stdout",
     "output_type": "stream",
     "text": [
      "12\n"
     ]
    }
   ],
   "source": [
    "\n",
    "\n",
    "def sequence_sum(begin_number, end_number, step):\n",
    "    count = begin_number\n",
    "    increment = begin_number+step\n",
    "    if begin_number > end_number:\n",
    "        return 0\n",
    "    \n",
    "    while increment <= end_number:\n",
    "              \n",
    "        count += increment\n",
    "        increment += begin_number \n",
    "\n",
    "    return count\n",
    "\n",
    "print(sequence_sum(2,6,2))\n"
   ]
  }
 ],
 "metadata": {
  "kernelspec": {
   "display_name": "Python 3.10.6 64-bit",
   "language": "python",
   "name": "python3"
  },
  "language_info": {
   "codemirror_mode": {
    "name": "ipython",
    "version": 3
   },
   "file_extension": ".py",
   "mimetype": "text/x-python",
   "name": "python",
   "nbconvert_exporter": "python",
   "pygments_lexer": "ipython3",
   "version": "3.10.6"
  },
  "orig_nbformat": 4,
  "vscode": {
   "interpreter": {
    "hash": "916dbcbb3f70747c44a77c7bcd40155683ae19c65e1c03b4aa3499c5328201f1"
   }
  }
 },
 "nbformat": 4,
 "nbformat_minor": 2
}
